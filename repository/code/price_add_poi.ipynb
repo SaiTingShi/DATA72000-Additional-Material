{
 "cells": [
  {
   "cell_type": "code",
   "execution_count": 13,
   "id": "67588bdd-1b45-4bd3-98b7-e26a48bd4903",
   "metadata": {},
   "outputs": [],
   "source": [
    "import os\n",
    "import numpy as np\n",
    "import pandas as pd\n",
    "from sklearn.neighbors import BallTree"
   ]
  },
  {
   "cell_type": "code",
   "execution_count": 35,
   "id": "70f6f580-239b-4814-a76d-409eb8cd68e1",
   "metadata": {},
   "outputs": [
    {
     "name": "stderr",
     "output_type": "stream",
     "text": [
      "<>:2: SyntaxWarning: invalid escape sequence '\\j'\n",
      "<>:2: SyntaxWarning: invalid escape sequence '\\j'\n",
      "C:\\Users\\user\\AppData\\Local\\Temp\\ipykernel_20400\\4234115924.py:2: SyntaxWarning: invalid escape sequence '\\j'\n",
      "  FOLDER = \"E:\\jupyternoteBookWorkPath\\erp\\house_eco_poi1\"  # change if needed\n"
     ]
    }
   ],
   "source": [
    "FOLDER = \"E:\\jupyternoteBookWorkPath\\erp\\house_eco_poi1\"\n",
    "HOUSE_FILE = os.path.join(FOLDER, \"shanghai_house_price_9.CSV\")\n",
    "FACILITY_FILES = {\n",
    "    \"dist_to_bank_m\":               os.path.join(FOLDER, \"bank_poi.xlsx\"),\n",
    "    \"dist_to_primary_school_m\":     os.path.join(FOLDER, \"primary_school_poi.xlsx\"),\n",
    "    \"dist_to_middle_school_m\":      os.path.join(FOLDER, \"middle_school_poi.xlsx\"),\n",
    "    \"dist_to_shopping_center_m\":    os.path.join(FOLDER, \"shopping_center_poi.xlsx\"),\n",
    "    \"dist_to_top_tier_hospital_m\":  os.path.join(FOLDER, \"top_tier_hospital_poi.xlsx\"),\n",
    "    \"dist_to_scenic_spot_m\":        os.path.join(FOLDER, \"scenic_spot_poi.xlsx\"),\n",
    "}\n",
    "\n",
    "OUTPUT_FILE = os.path.join(FOLDER, \"shanghai_house_price_9_with_distances.csv\")\n",
    "EARTH_RADIUS_M = 6371008.8  # IUGG mean earth radius in meters"
   ]
  },
  {
   "cell_type": "code",
   "execution_count": 37,
   "id": "66d88f1b-6b3c-4d8b-b8a1-4dd0fc24fb34",
   "metadata": {},
   "outputs": [],
   "source": [
    "def _find_lon_lat_columns(df):\n",
    "    \n",
    "    candidates_lon = [\"longitude\", \"lon\", \"lng\", \"LONGITUDE\", \"Lon\", \"Lng\", \"Longitude\"]\n",
    "    candidates_lat = [\"latitude\", \"lat\", \"LATITUDE\", \"Lat\", \"Latitude\"]\n",
    "\n",
    "    lon_col = None\n",
    "    lat_col = None\n",
    "\n",
    "    cols_lower = {c.lower(): c for c in df.columns}\n",
    "\n",
    "    for c in candidates_lon:\n",
    "        if c.lower() in cols_lower:\n",
    "            lon_col = cols_lower[c.lower()]\n",
    "            break\n",
    "\n",
    "    for c in candidates_lat:\n",
    "        if c.lower() in cols_lower:\n",
    "            lat_col = cols_lower[c.lower()]\n",
    "            break\n",
    "\n",
    "    if lon_col is None or lat_col is None:\n",
    "        raise ValueError(\n",
    "            f\"Could not find longitude/latitude columns. Available columns: {list(df.columns)}\"\n",
    "        )\n",
    "    return lon_col, lat_col\n",
    "\n",
    "def _to_radians_coords(df):\n",
    "    \"\"\"Extract lon/lat from df, coerce to numeric, drop NaNs, and return Nx2 array in radians as [lat, lon].\"\"\"\n",
    "    lon_col, lat_col = _find_lon_lat_columns(df)\n",
    "    lon = pd.to_numeric(df[lon_col], errors=\"coerce\")\n",
    "    lat = pd.to_numeric(df[lat_col], errors=\"coerce\")\n",
    "    mask = (~lon.isna()) & (~lat.isna())\n",
    "    coords_deg = np.vstack([lat[mask].to_numpy(), lon[mask].to_numpy()]).T  # shape (N, 2) = [lat, lon] in degrees\n",
    "    coords_rad = np.deg2rad(coords_deg)  # convert to radians\n",
    "    return coords_rad, mask\n",
    "\n",
    "def build_balltree_from_poi(poi_path):\n",
    "    \"\"\"\n",
    "    Load a POI Excel and build a BallTree (haversine).\n",
    "    Returns (tree or None, coords_rad or None).\n",
    "    If POI file has no valid coords, returns (None, None).\n",
    "    \"\"\"\n",
    "    poi = pd.read_excel(poi_path)\n",
    "    coords_rad, mask = _to_radians_coords(poi)\n",
    "    if coords_rad.shape[0] == 0:\n",
    "        return None, None\n",
    "    # BallTree expects [lat, lon] in radians; use haversine metric\n",
    "    tree = BallTree(coords_rad, metric=\"haversine\")\n",
    "    return tree, coords_rad\n",
    "\n",
    "def nearest_distance_meters(house_coords_rad, tree):\n",
    "    \"\"\"\n",
    "    Query nearest neighbor haversine distance (in meters) for each house coordinate.\n",
    "    house_coords_rad: Nx2 array of [lat, lon] in radians\n",
    "    tree: BallTree built on POI coords in radians\n",
    "    Returns 1D numpy array of distances in meters (length N).\n",
    "    \"\"\"\n",
    "    # BallTree returns distance in radians for haversine\n",
    "    dist_rad, _ = tree.query(house_coords_rad, k=1)  # shape (N, 1)\n",
    "    return (dist_rad[:, 0] * EARTH_RADIUS_M)\n",
    "\n",
    "def main():\n",
    "    # Load house data\n",
    "    print(\"Loading house data...\")\n",
    "    houses = pd.read_csv(HOUSE_FILE)\n",
    "    # Make a copy to avoid modifying original\n",
    "    result = houses.copy()\n",
    "\n",
    "    # Extract valid house coordinates (store mask to re-insert NaNs later)\n",
    "    print(\"Preparing house coordinates...\")\n",
    "    house_coords_rad, house_mask = _to_radians_coords(houses)\n",
    "\n",
    "    n_valid = int(house_mask.sum())\n",
    "    if n_valid == 0:\n",
    "        raise RuntimeError(\"No valid (longitude, latitude) found in the house file.\")\n",
    "\n",
    "    # For each facility file: build tree, query, and write column\n",
    "    for out_col, poi_path in FACILITY_FILES.items():\n",
    "        print(f\"Processing: {out_col} from {os.path.basename(poi_path)}\")\n",
    "        tree, _ = build_balltree_from_poi(poi_path)\n",
    "        result[out_col] = np.nan\n",
    "\n",
    "        if tree is None:\n",
    "            print(f\"Warning: {poi_path} has no valid coordinates; filling {out_col} with NaN.\")\n",
    "            continue\n",
    "\n",
    "        # Query only rows with valid house coords\n",
    "        dists_m = nearest_distance_meters(house_coords_rad, tree)\n",
    "\n",
    "        # Place results back into the full-length column using the mask\n",
    "        col_full = np.full(shape=(len(result),), fill_value=np.nan, dtype=float)\n",
    "        col_full[house_mask.to_numpy()] = dists_m\n",
    "        result[out_col] = col_full\n",
    "\n",
    "    # Save output\n",
    "    print(f\"Writing output to: {OUTPUT_FILE}\")\n",
    "    result.to_csv(OUTPUT_FILE, index=False)\n",
    "    print(\"Done.\")"
   ]
  },
  {
   "cell_type": "code",
   "execution_count": 39,
   "id": "475cf2b6-3e9c-4eb8-8cf7-37bdaa45c46f",
   "metadata": {},
   "outputs": [
    {
     "name": "stdout",
     "output_type": "stream",
     "text": [
      "Loading house data...\n",
      "Preparing house coordinates...\n",
      "Processing: dist_to_bank_m from bank_poi.xlsx\n",
      "Processing: dist_to_primary_school_m from primary_school_poi.xlsx\n",
      "Processing: dist_to_middle_school_m from middle_school_poi.xlsx\n",
      "Processing: dist_to_shopping_center_m from shopping_center_poi.xlsx\n",
      "Processing: dist_to_top_tier_hospital_m from top_tier_hospital_poi.xlsx\n",
      "Processing: dist_to_scenic_spot_m from scenic_spot_poi.xlsx\n",
      "Writing output to: E:\\jupyternoteBookWorkPath\\erp\\house_eco_poi1\\shanghai_house_price_9_with_distances.csv\n",
      "Done.\n"
     ]
    }
   ],
   "source": [
    "if __name__ == \"__main__\":\n",
    "    main()"
   ]
  },
  {
   "cell_type": "code",
   "execution_count": null,
   "id": "b5f1f868-3d55-4cef-bf20-ff8f797f984f",
   "metadata": {},
   "outputs": [],
   "source": []
  }
 ],
 "metadata": {
  "kernelspec": {
   "display_name": "Python 3 (ipykernel)",
   "language": "python",
   "name": "python3"
  },
  "language_info": {
   "codemirror_mode": {
    "name": "ipython",
    "version": 3
   },
   "file_extension": ".py",
   "mimetype": "text/x-python",
   "name": "python",
   "nbconvert_exporter": "python",
   "pygments_lexer": "ipython3",
   "version": "3.12.4"
  }
 },
 "nbformat": 4,
 "nbformat_minor": 5
}
