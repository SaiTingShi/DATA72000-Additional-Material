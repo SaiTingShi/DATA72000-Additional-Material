{
 "cells": [
  {
   "cell_type": "code",
   "execution_count": 1,
   "id": "9439328e-d399-456a-931a-a214d0b0f2bb",
   "metadata": {},
   "outputs": [],
   "source": [
    "import pandas as pd\n",
    "from pathlib import Path"
   ]
  },
  {
   "cell_type": "code",
   "execution_count": 21,
   "id": "50a8a013-ddd2-4f89-b60b-d56ebd2b79c7",
   "metadata": {},
   "outputs": [],
   "source": [
    "BASE_DIR = Path(r\"E:\\jupyternoteBookWorkPath\\erp\\house_eco_poi1\")\n",
    "house_file = BASE_DIR / \"shanghai_house_price_9_with_distances.csv\" \n",
    "macro_file = BASE_DIR / \"A_macroeconomic_factors_eng1.xlsx\"   \n",
    "output_file = BASE_DIR / \"shanghai_house_price_9_with_macro_3mavg.csv\""
   ]
  },
  {
   "cell_type": "code",
   "execution_count": 23,
   "id": "4eeed8f8-fb9a-4b19-aa39-34319733aef3",
   "metadata": {},
   "outputs": [],
   "source": [
    "# read data\n",
    "house_df = pd.read_csv(house_file)\n",
    "macro_df = pd.read_excel(macro_file)\n",
    "\n",
    "house_df[\"transaction_date\"] = pd.to_datetime(house_df[\"transaction_date\"], errors=\"coerce\")\n",
    "macro_df[\"date\"] = pd.to_datetime(macro_df[\"date\"], errors=\"coerce\")"
   ]
  },
  {
   "cell_type": "code",
   "execution_count": 25,
   "id": "bf7b01b8-8551-480d-8d53-0864de02cad3",
   "metadata": {},
   "outputs": [],
   "source": [
    "# preprocess data\n",
    "# get 6 macro variable columns except date\n",
    "macro_vars = [c for c in macro_df.columns if c.lower() != \"date\"]\n",
    "macro_df = macro_df[[\"date\"] + macro_vars].dropna(subset=[\"date\"]).sort_values(\"date\")\n",
    "\n",
    "# unify to \"end of month\" and keep datetime64[ns] precision:\n",
    "# period to Timestamp(end), avoid converting to datetime64[s]\n",
    "macro_df[\"month_end\"] = macro_df[\"date\"].dt.to_period(\"M\").dt.to_timestamp(how=\"end\")\n",
    "macro_df = (\n",
    "    macro_df\n",
    "    .drop(columns=[\"date\"])\n",
    "    .drop_duplicates(subset=[\"month_end\"])\n",
    "    .set_index(\"month_end\")\n",
    "    .sort_index()\n",
    ")\n",
    "\n",
    "# calculate the average of the first three months (excluding the transaction month)\n",
    "macro_roll_3m = macro_df.rolling(3, min_periods=1).mean().shift(1)\n",
    "\n",
    "# reset index to column for merge_asof\n",
    "macro_roll_3m = macro_roll_3m.reset_index().rename(columns={\"month_end\": \"macro_month_end\"})\n",
    "\n",
    "# align transaction data with the month and match them\n",
    "# transaction records are used for matching the end of the month: take the end of the transaction month, then move forward one month.\n",
    "house_df = house_df.copy()\n",
    "house_df[\"tx_month_end\"] = house_df[\"transaction_date\"].dt.to_period(\"M\").dt.to_timestamp(how=\"end\")\n",
    "house_df[\"lookup_month_end\"] = house_df[\"tx_month_end\"] - pd.offsets.MonthEnd(1)\n",
    "\n",
    "# force both keys to be datetime64[ns] without time zone\n",
    "house_df[\"lookup_month_end\"]   = pd.to_datetime(house_df[\"lookup_month_end\"],   utc=False).astype(\"datetime64[ns]\")\n",
    "macro_roll_3m[\"macro_month_end\"] = pd.to_datetime(macro_roll_3m[\"macro_month_end\"], utc=False).astype(\"datetime64[ns]\")\n",
    "\n",
    "# sorting for merge_asof\n",
    "house_df = house_df.sort_values(\"lookup_month_end\")\n",
    "macro_roll_3m = macro_roll_3m.sort_values(\"macro_month_end\")\n",
    "\n",
    "# asof merge: the most recent month in the right table that is less than or equal to the left key\n",
    "matched = pd.merge_asof(\n",
    "    left=house_df,\n",
    "    right=macro_roll_3m,\n",
    "    left_on=\"lookup_month_end\",\n",
    "    right_on=\"macro_month_end\",\n",
    "    direction=\"backward\"\n",
    ")"
   ]
  },
  {
   "cell_type": "code",
   "execution_count": 26,
   "id": "c6a8bb18-905e-489d-8c48-854206e83c31",
   "metadata": {},
   "outputs": [
    {
     "name": "stdout",
     "output_type": "stream",
     "text": [
      "处理完成：已为每条交易添加“前3个月（不含当月）”的6个宏观变量均值。\n",
      "输出文件：E:\\jupyternoteBookWorkPath\\erp\\house_eco_poi1\\shanghai_house_price_9_with_macro_3mavg.csv\n"
     ]
    }
   ],
   "source": [
    "# add suffix _3m_avg to 6 macro variables\n",
    "rename_map = {col: f\"{col}_3m_avg\" for col in macro_vars}\n",
    "matched = matched.rename(columns=rename_map)\n",
    "\n",
    "# only keep the original fields + add 6 new fields\n",
    "result_cols = list(house_df.columns) + [f\"{c}_3m_avg\" for c in macro_vars]\n",
    "result = matched[result_cols].copy()\n",
    "\n",
    "# save results\n",
    "result.to_csv(output_file, index=False, encoding=\"utf-8-sig\")\n",
    "print(f\"name：{output_file}\")"
   ]
  },
  {
   "cell_type": "code",
   "execution_count": null,
   "id": "413456df-41c7-4441-9504-916c2652c564",
   "metadata": {},
   "outputs": [],
   "source": []
  }
 ],
 "metadata": {
  "kernelspec": {
   "display_name": "Python 3 (ipykernel)",
   "language": "python",
   "name": "python3"
  },
  "language_info": {
   "codemirror_mode": {
    "name": "ipython",
    "version": 3
   },
   "file_extension": ".py",
   "mimetype": "text/x-python",
   "name": "python",
   "nbconvert_exporter": "python",
   "pygments_lexer": "ipython3",
   "version": "3.12.4"
  }
 },
 "nbformat": 4,
 "nbformat_minor": 5
}
