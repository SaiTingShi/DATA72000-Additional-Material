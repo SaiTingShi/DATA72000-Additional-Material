{
 "cells": [
  {
   "cell_type": "code",
   "execution_count": 1,
   "id": "2b382733-5a53-4399-b74b-cfb3fcd52b71",
   "metadata": {},
   "outputs": [],
   "source": [
    "import pandas as pd\n",
    "import numpy as np\n",
    "import xgboost as xgb\n",
    "from sklearn.model_selection import train_test_split\n",
    "from sklearn.metrics import mean_squared_error, mean_absolute_error, r2_score\n",
    "import shap\n",
    "import matplotlib.pyplot as plt\n",
    "import seaborn as sns\n",
    "import os\n",
    "plt.rcParams['font.family'] = 'Times New Roman'"
   ]
  },
  {
   "cell_type": "code",
   "execution_count": 3,
   "id": "6ee02e74-9f2e-4e06-a721-23801e9392c0",
   "metadata": {},
   "outputs": [
    {
     "name": "stdout",
     "output_type": "stream",
     "text": [
      "Analysis complete. Results saved to E:\\jupyternoteBookWorkPath\\erp\\house_eco_poi1\\analysis_results.txt\n"
     ]
    },
    {
     "data": {
      "text/plain": [
       "<Figure size 3000x1800 with 0 Axes>"
      ]
     },
     "metadata": {},
     "output_type": "display_data"
    },
    {
     "data": {
      "text/plain": [
       "<Figure size 8000x2400 with 0 Axes>"
      ]
     },
     "metadata": {},
     "output_type": "display_data"
    },
    {
     "data": {
      "text/plain": [
       "<Figure size 3000x1800 with 0 Axes>"
      ]
     },
     "metadata": {},
     "output_type": "display_data"
    },
    {
     "data": {
      "text/plain": [
       "<Figure size 8000x2400 with 0 Axes>"
      ]
     },
     "metadata": {},
     "output_type": "display_data"
    },
    {
     "data": {
      "text/plain": [
       "<Figure size 3000x1800 with 0 Axes>"
      ]
     },
     "metadata": {},
     "output_type": "display_data"
    },
    {
     "data": {
      "text/plain": [
       "<Figure size 8000x2400 with 0 Axes>"
      ]
     },
     "metadata": {},
     "output_type": "display_data"
    }
   ],
   "source": [
    "# Ensure output directory exists\n",
    "output_dir = r\"E:\\jupyternoteBookWorkPath\\erp\\house_eco_poi1\"\n",
    "os.makedirs(output_dir, exist_ok=True)\n",
    "output_file = os.path.join(output_dir, \"analysis_results.txt\")\n",
    "\n",
    "# Open text file to save results\n",
    "with open(output_file, 'w', encoding='utf-8') as f:\n",
    "    try:\n",
    "        df = pd.read_csv('shanghai_house_price_9_with_macro_3mavg.csv')\n",
    "    except FileNotFoundError:\n",
    "        f.write(\"Error: CSV file 'shanghai_house_price_9_with_macro_3mavg.csv' not found. Please ensure the file is in the correct directory.\\n\")\n",
    "        raise\n",
    "\n",
    "    # Feature groups\n",
    "    physical_features = ['bedroom_num', 'livingroom_num', 'area', 'finish_level', 'age']\n",
    "    neighborhood_features = ['floor_area_ratio', 'green_space_ratio', \n",
    "                           'dist_to_nearest_subway_station_m', 'dist_to_bank_m',\n",
    "                           'dist_to_primary_school_m', 'dist_to_middle_school_m',\n",
    "                           'dist_to_shopping_center_m', 'dist_to_top_tier_hospital_m',\n",
    "                           'dist_to_scenic_spot_m']\n",
    "    macro_features = ['gdp_growth_yoy_3m_avg', 'gdp_growth_qoq_3m_avg', \n",
    "                     'cpi_yoy_3m_avg', 'cpi_mom_3m_avg', \n",
    "                     'ppi_yoy_3m_avg', 'ppi_mom_3m_avg']\n",
    "    \n",
    "    # Target variable\n",
    "    y = df['unit_price']\n",
    "    \n",
    "    # 4.1 EDA\n",
    "    f.write(\"\\n=== 4.1 Exploratory Data Analysis ===\\n\")\n",
    "    f.write(\"Summary Statistics:\\n\")\n",
    "    f.write(str(df[physical_features + neighborhood_features + macro_features + ['unit_price']].describe()))\n",
    "    \n",
    "    # Histogram\n",
    "    plt.figure(figsize=(10, 6))\n",
    "    sns.histplot(df['unit_price'], bins=30)\n",
    "    plt.title('Distribution of Unit Price')\n",
    "    plt.savefig(os.path.join(output_dir, 'unit_price_histogram.png'))\n",
    "    plt.close()\n",
    "    f.write(\"\\nHistogram of unit price saved as 'unit_price_histogram.png'\")\n",
    "    \n",
    "    # Correlation heatmap\n",
    "    plt.figure(figsize=(27, 21))\n",
    "    correlation_matrix = df[physical_features + neighborhood_features + macro_features + ['unit_price']].corr()\n",
    "    sns.heatmap(correlation_matrix, annot=False, cmap='coolwarm')\n",
    "    plt.title('Correlation Heatmap', fontsize = 28)\n",
    "    plt.savefig(os.path.join(output_dir, 'correlation_heatmap.png'), dpi = 300)\n",
    "    plt.close()\n",
    "    f.write(\"\\nCorrelation heatmap saved as 'correlation_heatmap.png'\")\n",
    "    \n",
    "    # 3. Methodology:Three scenarios\n",
    "    scenarios = {\n",
    "        'Physical Only': physical_features,\n",
    "        'Physical + Neighborhood': physical_features + neighborhood_features,\n",
    "        'Physical + Neighborhood + Macro': physical_features + neighborhood_features + macro_features\n",
    "    }\n",
    "    \n",
    "    results = {}\n",
    "    \n",
    "    # 3.2 Method:Model configuration\n",
    "    params = {\n",
    "        'n_estimators': 100,\n",
    "        'max_depth': 6,\n",
    "        'learning_rate': 0.1,\n",
    "        'subsample': 0.8,\n",
    "        'colsample_bytree': 0.8,\n",
    "        'random_state': 42,\n",
    "        'eval_metric': 'rmse'  # Moved eval_metric to model initialization\n",
    "    }\n",
    "    \n",
    "    f.write(\"\\n=== 3.2 Model Configuration ===\\n\")\n",
    "    f.write(\"Hyperparameters used:\\n\")\n",
    "    f.write(f\"n_estimators: {params['n_estimators']} - Number of boosting rounds\\n\")\n",
    "    f.write(f\"max_depth: {params['max_depth']} - Maximum tree depth\\n\")\n",
    "    f.write(f\"learning_rate: {params['learning_rate']} - Step size shrinkage\\n\")\n",
    "    f.write(f\"subsample: {params['subsample']} - Fraction of samples used per tree\\n\")\n",
    "    f.write(f\"colsample_bytree: {params['colsample_bytree']} - Fraction of features used per tree\\n\")\n",
    "    f.write(f\"eval_metric: {params['eval_metric']} - Evaluation metric for validation\\n\")\n",
    "    \n",
    "    # Training and evaluation for each scenario\n",
    "    for scenario_name, features in scenarios.items():\n",
    "        f.write(f\"\\n=== 4.2-4.6 Results for {scenario_name} ===\\n\")\n",
    "        \n",
    "        # Prepare data\n",
    "        X = df[features]\n",
    "        X_train, X_test, y_train, y_test = train_test_split(X, y, test_size=0.2, random_state=42)\n",
    "        \n",
    "        # Train model\n",
    "        model = xgb.XGBRegressor(**params)\n",
    "        model.fit(X_train, y_train, \n",
    "                 eval_set=[(X_train, y_train), (X_test, y_test)],\n",
    "                 verbose=False)\n",
    "        \n",
    "        # 4.2 Model Training Outcomes\n",
    "        evals_result = model.evals_result()\n",
    "        n_iterations = len(evals_result['validation_0']['rmse'])\n",
    "        final_train_rmse = evals_result['validation_0']['rmse'][-1]\n",
    "        final_test_rmse = evals_result['validation_1']['rmse'][-1]\n",
    "        \n",
    "        f.write(f\"Number of iterations: {n_iterations}\\n\")\n",
    "        f.write(f\"Final training RMSE: {final_train_rmse:.2f}\\n\")\n",
    "        f.write(f\"Final test RMSE: {final_test_rmse:.2f}\\n\")\n",
    "        \n",
    "        # Plot learning curves\n",
    "        plt.figure(figsize=(10, 6))\n",
    "        plt.plot(evals_result['validation_0']['rmse'], label='Training RMSE')\n",
    "        plt.plot(evals_result['validation_1']['rmse'], label='Test RMSE')\n",
    "        plt.title(f'Learning Curves - {scenario_name}')\n",
    "        plt.xlabel('Iteration')\n",
    "        plt.ylabel('RMSE')\n",
    "        plt.legend()\n",
    "        plt.savefig(os.path.join(output_dir, f'learning_curve_{scenario_name.replace(\" \", \"_\").lower()}.png'))\n",
    "        plt.close()\n",
    "        f.write(f\"Learning curve saved as 'learning_curve_{scenario_name.replace(' ', '_').lower()}.png'\\n\")\n",
    "        \n",
    "        # 4.3 Prediction Results\n",
    "        y_pred = model.predict(X_test)\n",
    "        \n",
    "        # 4.4 Error Analysis\n",
    "        rmse = np.sqrt(mean_squared_error(y_test, y_pred))\n",
    "        mae = mean_absolute_error(y_test, y_pred)\n",
    "        r2 = r2_score(y_test, y_pred)\n",
    "        \n",
    "        f.write(\"\\nEvaluation Metrics:\\n\")\n",
    "        f.write(f\"RMSE: {rmse:.2f}\\n\")\n",
    "        f.write(f\"MAE: {mae:.2f}\\n\")\n",
    "        f.write(f\"R²: {r2:.4f}\\n\")\n",
    "        \n",
    "        results[scenario_name] = {'RMSE': rmse, 'MAE': mae, 'R2': r2}\n",
    "        \n",
    "        # 4.5 Feature Importance and Interpretability\n",
    "        plt.figure(figsize=(30, 18))\n",
    "        xgb.plot_importance(model, importance_type='gain', max_num_features=10)\n",
    "        plt.title(f'Feature Importance (Gain) - {scenario_name}')\n",
    "        plt.tight_layout()\n",
    "        plt.savefig(os.path.join(output_dir, f'feature_importance_gain_{scenario_name.replace(\" \", \"_\").lower()}.png'))\n",
    "        plt.close()\n",
    "        f.write(f\"Feature importance (gain) plot saved as 'feature_importance_gain_{scenario_name.replace(' ', '_').lower()}.png'\\n\")\n",
    "        \n",
    "        # SHAP values\n",
    "        explainer = shap.TreeExplainer(model)\n",
    "        shap_values = explainer.shap_values(X_test)\n",
    "        plt.figure(figsize=(10, 6))\n",
    "        shap.summary_plot(shap_values, X_test, show=False)\n",
    "        plt.savefig(os.path.join(output_dir, f'shap_summary_{scenario_name.replace(\" \", \"_\").lower()}.png'))\n",
    "        plt.close()\n",
    "        f.write(f\"SHAP summary plot saved as 'shap_summary_{scenario_name.replace(' ', '_').lower()}.png'\\n\")\n",
    "        \n",
    "        # SHAP interaction effects\n",
    "        shap_interaction_values = explainer.shap_interaction_values(X_test)\n",
    "        plt.figure(figsize=(80,24))\n",
    "        shap.summary_plot(shap_interaction_values, X_test, show=False)\n",
    "        plt.tight_layout()\n",
    "        plt.savefig(os.path.join(output_dir, f'shap_interaction_{scenario_name.replace(\" \", \"_\").lower()}.png'),dpi = 300, bbox_inches = 'tight')\n",
    "        plt.close()\n",
    "        f.write(f\"SHAP interaction plot saved as 'shap_interaction_{scenario_name.replace(' ', '_').lower()}.png'\\n\")\n",
    "    \n",
    "    # 4.6 ablation study\n",
    "    f.write(\"\\n=== 4.6 Ablation Study Results ===\\n\")\n",
    "    f.write(\"Scenario Comparison Table:\\n\")\n",
    "    f.write(\"Scenario\\tRMSE\\tMAE\\tR²\\n\")\n",
    "    for scenario_name, metrics in results.items():\n",
    "        f.write(f\"{scenario_name}\\t{metrics['RMSE']:.2f}\\t{metrics['MAE']:.2f}\\t{metrics['R2']:.4f}\\n\")\n",
    "\n",
    "print(f\"Analysis complete. Results saved to {output_file}\")\n"
   ]
  },
  {
   "cell_type": "code",
   "execution_count": null,
   "id": "892deefc-84f7-4c7a-96ef-b2ebc6dc5afc",
   "metadata": {},
   "outputs": [],
   "source": []
  }
 ],
 "metadata": {
  "kernelspec": {
   "display_name": "Python 3 (ipykernel)",
   "language": "python",
   "name": "python3"
  },
  "language_info": {
   "codemirror_mode": {
    "name": "ipython",
    "version": 3
   },
   "file_extension": ".py",
   "mimetype": "text/x-python",
   "name": "python",
   "nbconvert_exporter": "python",
   "pygments_lexer": "ipython3",
   "version": "3.12.4"
  }
 },
 "nbformat": 4,
 "nbformat_minor": 5
}
